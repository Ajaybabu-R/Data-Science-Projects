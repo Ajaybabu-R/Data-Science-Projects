{
 "cells": [
  {
   "cell_type": "code",
   "execution_count": 1,
   "id": "e5585db3",
   "metadata": {},
   "outputs": [],
   "source": [
    "import numpy as np\n",
    "import pandas as pd\n",
    "import matplotlib.pyplot as plt\n",
    "import seaborn as sns\n",
    "import warnings\n",
    "warnings.filterwarnings('ignore')\n",
    "\n",
    "plt.rcParams['figure.figsize'] = [15,6]"
   ]
  },
  {
   "cell_type": "code",
   "execution_count": 2,
   "id": "ab733b63",
   "metadata": {},
   "outputs": [],
   "source": [
    "from sklearn.preprocessing import StandardScaler, MinMaxScaler, RobustScaler, LabelEncoder\n",
    "from sklearn.linear_model import ElasticNet, Lasso, Ridge\n",
    "from sklearn.model_selection import train_test_split, GridSearchCV, cross_val_score\n",
    "import statsmodels\n",
    "import statsmodels.api as sm\n",
    "from sklearn.tree import DecisionTreeClassifier\n",
    "from sklearn.ensemble import RandomForestClassifier, AdaBoostClassifier, GradientBoostingClassifier\n",
    "import xgboost\n",
    "from xgboost import XGBClassifier\n",
    "from imblearn.over_sampling import SMOTE\n",
    "from sklearn.metrics import accuracy_score, roc_auc_score, roc_curve, classification_report\n",
    "from sklearn.metrics import mean_absolute_error, mean_absolute_percentage_error, mean_squared_error\n",
    "from statsmodels.stats.outliers_influence import variance_inflation_factor"
   ]
  },
  {
   "cell_type": "code",
   "execution_count": 3,
   "id": "b7913f66",
   "metadata": {},
   "outputs": [
    {
     "data": {
      "text/html": [
       "<div>\n",
       "<style scoped>\n",
       "    .dataframe tbody tr th:only-of-type {\n",
       "        vertical-align: middle;\n",
       "    }\n",
       "\n",
       "    .dataframe tbody tr th {\n",
       "        vertical-align: top;\n",
       "    }\n",
       "\n",
       "    .dataframe thead th {\n",
       "        text-align: right;\n",
       "    }\n",
       "</style>\n",
       "<table border=\"1\" class=\"dataframe\">\n",
       "  <thead>\n",
       "    <tr style=\"text-align: right;\">\n",
       "      <th></th>\n",
       "      <th>url</th>\n",
       "      <th>address</th>\n",
       "      <th>name</th>\n",
       "      <th>online_order</th>\n",
       "      <th>book_table</th>\n",
       "      <th>rate</th>\n",
       "      <th>votes</th>\n",
       "      <th>phone</th>\n",
       "      <th>location</th>\n",
       "      <th>rest_type</th>\n",
       "      <th>dish_liked</th>\n",
       "      <th>cuisines</th>\n",
       "      <th>approx_cost(for two people)</th>\n",
       "      <th>reviews_list</th>\n",
       "      <th>menu_item</th>\n",
       "      <th>listed_in(type)</th>\n",
       "      <th>listed_in(city)</th>\n",
       "    </tr>\n",
       "  </thead>\n",
       "  <tbody>\n",
       "    <tr>\n",
       "      <th>0</th>\n",
       "      <td>https://www.zomato.com/bangalore/jalsa-banasha...</td>\n",
       "      <td>942, 21st Main Road, 2nd Stage, Banashankari, ...</td>\n",
       "      <td>Jalsa</td>\n",
       "      <td>Yes</td>\n",
       "      <td>Yes</td>\n",
       "      <td>4.1/5</td>\n",
       "      <td>775</td>\n",
       "      <td>080 42297555\\r\\n+91 9743772233</td>\n",
       "      <td>Banashankari</td>\n",
       "      <td>Casual Dining</td>\n",
       "      <td>Pasta, Lunch Buffet, Masala Papad, Paneer Laja...</td>\n",
       "      <td>North Indian, Mughlai, Chinese</td>\n",
       "      <td>800</td>\n",
       "      <td>[('Rated 4.0', 'RATED\\n  A beautiful place to ...</td>\n",
       "      <td>[]</td>\n",
       "      <td>Buffet</td>\n",
       "      <td>Banashankari</td>\n",
       "    </tr>\n",
       "    <tr>\n",
       "      <th>1</th>\n",
       "      <td>https://www.zomato.com/bangalore/spice-elephan...</td>\n",
       "      <td>2nd Floor, 80 Feet Road, Near Big Bazaar, 6th ...</td>\n",
       "      <td>Spice Elephant</td>\n",
       "      <td>Yes</td>\n",
       "      <td>No</td>\n",
       "      <td>4.1/5</td>\n",
       "      <td>787</td>\n",
       "      <td>080 41714161</td>\n",
       "      <td>Banashankari</td>\n",
       "      <td>Casual Dining</td>\n",
       "      <td>Momos, Lunch Buffet, Chocolate Nirvana, Thai G...</td>\n",
       "      <td>Chinese, North Indian, Thai</td>\n",
       "      <td>800</td>\n",
       "      <td>[('Rated 4.0', 'RATED\\n  Had been here for din...</td>\n",
       "      <td>[]</td>\n",
       "      <td>Buffet</td>\n",
       "      <td>Banashankari</td>\n",
       "    </tr>\n",
       "    <tr>\n",
       "      <th>2</th>\n",
       "      <td>https://www.zomato.com/SanchurroBangalore?cont...</td>\n",
       "      <td>1112, Next to KIMS Medical College, 17th Cross...</td>\n",
       "      <td>San Churro Cafe</td>\n",
       "      <td>Yes</td>\n",
       "      <td>No</td>\n",
       "      <td>3.8/5</td>\n",
       "      <td>918</td>\n",
       "      <td>+91 9663487993</td>\n",
       "      <td>Banashankari</td>\n",
       "      <td>Cafe, Casual Dining</td>\n",
       "      <td>Churros, Cannelloni, Minestrone Soup, Hot Choc...</td>\n",
       "      <td>Cafe, Mexican, Italian</td>\n",
       "      <td>800</td>\n",
       "      <td>[('Rated 3.0', \"RATED\\n  Ambience is not that ...</td>\n",
       "      <td>[]</td>\n",
       "      <td>Buffet</td>\n",
       "      <td>Banashankari</td>\n",
       "    </tr>\n",
       "    <tr>\n",
       "      <th>3</th>\n",
       "      <td>https://www.zomato.com/bangalore/addhuri-udupi...</td>\n",
       "      <td>1st Floor, Annakuteera, 3rd Stage, Banashankar...</td>\n",
       "      <td>Addhuri Udupi Bhojana</td>\n",
       "      <td>No</td>\n",
       "      <td>No</td>\n",
       "      <td>3.7/5</td>\n",
       "      <td>88</td>\n",
       "      <td>+91 9620009302</td>\n",
       "      <td>Banashankari</td>\n",
       "      <td>Quick Bites</td>\n",
       "      <td>Masala Dosa</td>\n",
       "      <td>South Indian, North Indian</td>\n",
       "      <td>300</td>\n",
       "      <td>[('Rated 4.0', \"RATED\\n  Great food and proper...</td>\n",
       "      <td>[]</td>\n",
       "      <td>Buffet</td>\n",
       "      <td>Banashankari</td>\n",
       "    </tr>\n",
       "    <tr>\n",
       "      <th>4</th>\n",
       "      <td>https://www.zomato.com/bangalore/grand-village...</td>\n",
       "      <td>10, 3rd Floor, Lakshmi Associates, Gandhi Baza...</td>\n",
       "      <td>Grand Village</td>\n",
       "      <td>No</td>\n",
       "      <td>No</td>\n",
       "      <td>3.8/5</td>\n",
       "      <td>166</td>\n",
       "      <td>+91 8026612447\\r\\n+91 9901210005</td>\n",
       "      <td>Basavanagudi</td>\n",
       "      <td>Casual Dining</td>\n",
       "      <td>Panipuri, Gol Gappe</td>\n",
       "      <td>North Indian, Rajasthani</td>\n",
       "      <td>600</td>\n",
       "      <td>[('Rated 4.0', 'RATED\\n  Very good restaurant ...</td>\n",
       "      <td>[]</td>\n",
       "      <td>Buffet</td>\n",
       "      <td>Banashankari</td>\n",
       "    </tr>\n",
       "  </tbody>\n",
       "</table>\n",
       "</div>"
      ],
      "text/plain": [
       "                                                 url  \\\n",
       "0  https://www.zomato.com/bangalore/jalsa-banasha...   \n",
       "1  https://www.zomato.com/bangalore/spice-elephan...   \n",
       "2  https://www.zomato.com/SanchurroBangalore?cont...   \n",
       "3  https://www.zomato.com/bangalore/addhuri-udupi...   \n",
       "4  https://www.zomato.com/bangalore/grand-village...   \n",
       "\n",
       "                                             address                   name  \\\n",
       "0  942, 21st Main Road, 2nd Stage, Banashankari, ...                  Jalsa   \n",
       "1  2nd Floor, 80 Feet Road, Near Big Bazaar, 6th ...         Spice Elephant   \n",
       "2  1112, Next to KIMS Medical College, 17th Cross...        San Churro Cafe   \n",
       "3  1st Floor, Annakuteera, 3rd Stage, Banashankar...  Addhuri Udupi Bhojana   \n",
       "4  10, 3rd Floor, Lakshmi Associates, Gandhi Baza...          Grand Village   \n",
       "\n",
       "  online_order book_table   rate  votes                             phone  \\\n",
       "0          Yes        Yes  4.1/5    775    080 42297555\\r\\n+91 9743772233   \n",
       "1          Yes         No  4.1/5    787                      080 41714161   \n",
       "2          Yes         No  3.8/5    918                    +91 9663487993   \n",
       "3           No         No  3.7/5     88                    +91 9620009302   \n",
       "4           No         No  3.8/5    166  +91 8026612447\\r\\n+91 9901210005   \n",
       "\n",
       "       location            rest_type  \\\n",
       "0  Banashankari        Casual Dining   \n",
       "1  Banashankari        Casual Dining   \n",
       "2  Banashankari  Cafe, Casual Dining   \n",
       "3  Banashankari          Quick Bites   \n",
       "4  Basavanagudi        Casual Dining   \n",
       "\n",
       "                                          dish_liked  \\\n",
       "0  Pasta, Lunch Buffet, Masala Papad, Paneer Laja...   \n",
       "1  Momos, Lunch Buffet, Chocolate Nirvana, Thai G...   \n",
       "2  Churros, Cannelloni, Minestrone Soup, Hot Choc...   \n",
       "3                                        Masala Dosa   \n",
       "4                                Panipuri, Gol Gappe   \n",
       "\n",
       "                         cuisines approx_cost(for two people)  \\\n",
       "0  North Indian, Mughlai, Chinese                         800   \n",
       "1     Chinese, North Indian, Thai                         800   \n",
       "2          Cafe, Mexican, Italian                         800   \n",
       "3      South Indian, North Indian                         300   \n",
       "4        North Indian, Rajasthani                         600   \n",
       "\n",
       "                                        reviews_list menu_item  \\\n",
       "0  [('Rated 4.0', 'RATED\\n  A beautiful place to ...        []   \n",
       "1  [('Rated 4.0', 'RATED\\n  Had been here for din...        []   \n",
       "2  [('Rated 3.0', \"RATED\\n  Ambience is not that ...        []   \n",
       "3  [('Rated 4.0', \"RATED\\n  Great food and proper...        []   \n",
       "4  [('Rated 4.0', 'RATED\\n  Very good restaurant ...        []   \n",
       "\n",
       "  listed_in(type) listed_in(city)  \n",
       "0          Buffet    Banashankari  \n",
       "1          Buffet    Banashankari  \n",
       "2          Buffet    Banashankari  \n",
       "3          Buffet    Banashankari  \n",
       "4          Buffet    Banashankari  "
      ]
     },
     "execution_count": 3,
     "metadata": {},
     "output_type": "execute_result"
    }
   ],
   "source": [
    "zomato = pd.read_csv('zomato.csv')\n",
    "zomato.head()"
   ]
  },
  {
   "cell_type": "code",
   "execution_count": 4,
   "id": "9644984f",
   "metadata": {},
   "outputs": [
    {
     "data": {
      "text/plain": [
       "(51717, 17)"
      ]
     },
     "execution_count": 4,
     "metadata": {},
     "output_type": "execute_result"
    }
   ],
   "source": [
    "zomato.shape"
   ]
  },
  {
   "cell_type": "code",
   "execution_count": 5,
   "id": "dc7fb42d",
   "metadata": {},
   "outputs": [
    {
     "name": "stdout",
     "output_type": "stream",
     "text": [
      "<class 'pandas.core.frame.DataFrame'>\n",
      "RangeIndex: 51717 entries, 0 to 51716\n",
      "Data columns (total 17 columns):\n",
      " #   Column                       Non-Null Count  Dtype \n",
      "---  ------                       --------------  ----- \n",
      " 0   url                          51717 non-null  object\n",
      " 1   address                      51717 non-null  object\n",
      " 2   name                         51717 non-null  object\n",
      " 3   online_order                 51717 non-null  object\n",
      " 4   book_table                   51717 non-null  object\n",
      " 5   rate                         43942 non-null  object\n",
      " 6   votes                        51717 non-null  int64 \n",
      " 7   phone                        50509 non-null  object\n",
      " 8   location                     51696 non-null  object\n",
      " 9   rest_type                    51490 non-null  object\n",
      " 10  dish_liked                   23639 non-null  object\n",
      " 11  cuisines                     51672 non-null  object\n",
      " 12  approx_cost(for two people)  51371 non-null  object\n",
      " 13  reviews_list                 51717 non-null  object\n",
      " 14  menu_item                    51717 non-null  object\n",
      " 15  listed_in(type)              51717 non-null  object\n",
      " 16  listed_in(city)              51717 non-null  object\n",
      "dtypes: int64(1), object(16)\n",
      "memory usage: 6.7+ MB\n"
     ]
    }
   ],
   "source": [
    "zomato.info()"
   ]
  },
  {
   "cell_type": "code",
   "execution_count": 6,
   "id": "792dac6c",
   "metadata": {},
   "outputs": [
    {
     "data": {
      "text/plain": [
       "url                                0\n",
       "address                            0\n",
       "name                               0\n",
       "online_order                       0\n",
       "book_table                         0\n",
       "rate                            7775\n",
       "votes                              0\n",
       "phone                           1208\n",
       "location                          21\n",
       "rest_type                        227\n",
       "dish_liked                     28078\n",
       "cuisines                          45\n",
       "approx_cost(for two people)      346\n",
       "reviews_list                       0\n",
       "menu_item                          0\n",
       "listed_in(type)                    0\n",
       "listed_in(city)                    0\n",
       "dtype: int64"
      ]
     },
     "execution_count": 6,
     "metadata": {},
     "output_type": "execute_result"
    }
   ],
   "source": [
    "zomato.isnull().sum()"
   ]
  },
  {
   "cell_type": "code",
   "execution_count": 7,
   "id": "d9e75a7b",
   "metadata": {},
   "outputs": [
    {
     "data": {
      "text/plain": [
       "8792"
      ]
     },
     "execution_count": 7,
     "metadata": {},
     "output_type": "execute_result"
    }
   ],
   "source": [
    "len(zomato.name.unique())"
   ]
  },
  {
   "cell_type": "code",
   "execution_count": 8,
   "id": "cb113f44",
   "metadata": {},
   "outputs": [
    {
     "data": {
      "text/html": [
       "<div>\n",
       "<style scoped>\n",
       "    .dataframe tbody tr th:only-of-type {\n",
       "        vertical-align: middle;\n",
       "    }\n",
       "\n",
       "    .dataframe tbody tr th {\n",
       "        vertical-align: top;\n",
       "    }\n",
       "\n",
       "    .dataframe thead th {\n",
       "        text-align: right;\n",
       "    }\n",
       "</style>\n",
       "<table border=\"1\" class=\"dataframe\">\n",
       "  <thead>\n",
       "    <tr style=\"text-align: right;\">\n",
       "      <th></th>\n",
       "      <th>votes</th>\n",
       "    </tr>\n",
       "  </thead>\n",
       "  <tbody>\n",
       "    <tr>\n",
       "      <th>count</th>\n",
       "      <td>51717.000000</td>\n",
       "    </tr>\n",
       "    <tr>\n",
       "      <th>mean</th>\n",
       "      <td>283.697527</td>\n",
       "    </tr>\n",
       "    <tr>\n",
       "      <th>std</th>\n",
       "      <td>803.838853</td>\n",
       "    </tr>\n",
       "    <tr>\n",
       "      <th>min</th>\n",
       "      <td>0.000000</td>\n",
       "    </tr>\n",
       "    <tr>\n",
       "      <th>25%</th>\n",
       "      <td>7.000000</td>\n",
       "    </tr>\n",
       "    <tr>\n",
       "      <th>50%</th>\n",
       "      <td>41.000000</td>\n",
       "    </tr>\n",
       "    <tr>\n",
       "      <th>75%</th>\n",
       "      <td>198.000000</td>\n",
       "    </tr>\n",
       "    <tr>\n",
       "      <th>max</th>\n",
       "      <td>16832.000000</td>\n",
       "    </tr>\n",
       "  </tbody>\n",
       "</table>\n",
       "</div>"
      ],
      "text/plain": [
       "              votes\n",
       "count  51717.000000\n",
       "mean     283.697527\n",
       "std      803.838853\n",
       "min        0.000000\n",
       "25%        7.000000\n",
       "50%       41.000000\n",
       "75%      198.000000\n",
       "max    16832.000000"
      ]
     },
     "execution_count": 8,
     "metadata": {},
     "output_type": "execute_result"
    }
   ],
   "source": [
    "zomato.describe()"
   ]
  },
  {
   "cell_type": "code",
   "execution_count": 9,
   "id": "a82eccd2",
   "metadata": {},
   "outputs": [
    {
     "data": {
      "text/html": [
       "<div>\n",
       "<style scoped>\n",
       "    .dataframe tbody tr th:only-of-type {\n",
       "        vertical-align: middle;\n",
       "    }\n",
       "\n",
       "    .dataframe tbody tr th {\n",
       "        vertical-align: top;\n",
       "    }\n",
       "\n",
       "    .dataframe thead th {\n",
       "        text-align: right;\n",
       "    }\n",
       "</style>\n",
       "<table border=\"1\" class=\"dataframe\">\n",
       "  <thead>\n",
       "    <tr style=\"text-align: right;\">\n",
       "      <th></th>\n",
       "      <th>url</th>\n",
       "      <th>address</th>\n",
       "      <th>name</th>\n",
       "      <th>online_order</th>\n",
       "      <th>book_table</th>\n",
       "      <th>rate</th>\n",
       "      <th>phone</th>\n",
       "      <th>location</th>\n",
       "      <th>rest_type</th>\n",
       "      <th>dish_liked</th>\n",
       "      <th>cuisines</th>\n",
       "      <th>approx_cost(for two people)</th>\n",
       "      <th>reviews_list</th>\n",
       "      <th>menu_item</th>\n",
       "      <th>listed_in(type)</th>\n",
       "      <th>listed_in(city)</th>\n",
       "    </tr>\n",
       "  </thead>\n",
       "  <tbody>\n",
       "    <tr>\n",
       "      <th>count</th>\n",
       "      <td>51717</td>\n",
       "      <td>51717</td>\n",
       "      <td>51717</td>\n",
       "      <td>51717</td>\n",
       "      <td>51717</td>\n",
       "      <td>43942</td>\n",
       "      <td>50509</td>\n",
       "      <td>51696</td>\n",
       "      <td>51490</td>\n",
       "      <td>23639</td>\n",
       "      <td>51672</td>\n",
       "      <td>51371</td>\n",
       "      <td>51717</td>\n",
       "      <td>51717</td>\n",
       "      <td>51717</td>\n",
       "      <td>51717</td>\n",
       "    </tr>\n",
       "    <tr>\n",
       "      <th>unique</th>\n",
       "      <td>51717</td>\n",
       "      <td>11495</td>\n",
       "      <td>8792</td>\n",
       "      <td>2</td>\n",
       "      <td>2</td>\n",
       "      <td>64</td>\n",
       "      <td>14926</td>\n",
       "      <td>93</td>\n",
       "      <td>93</td>\n",
       "      <td>5271</td>\n",
       "      <td>2723</td>\n",
       "      <td>70</td>\n",
       "      <td>22513</td>\n",
       "      <td>9098</td>\n",
       "      <td>7</td>\n",
       "      <td>30</td>\n",
       "    </tr>\n",
       "    <tr>\n",
       "      <th>top</th>\n",
       "      <td>https://www.zomato.com/bangalore/jalsa-banasha...</td>\n",
       "      <td>Delivery Only</td>\n",
       "      <td>Cafe Coffee Day</td>\n",
       "      <td>Yes</td>\n",
       "      <td>No</td>\n",
       "      <td>NEW</td>\n",
       "      <td>080 43334321</td>\n",
       "      <td>BTM</td>\n",
       "      <td>Quick Bites</td>\n",
       "      <td>Biryani</td>\n",
       "      <td>North Indian</td>\n",
       "      <td>300</td>\n",
       "      <td>[]</td>\n",
       "      <td>[]</td>\n",
       "      <td>Delivery</td>\n",
       "      <td>BTM</td>\n",
       "    </tr>\n",
       "    <tr>\n",
       "      <th>freq</th>\n",
       "      <td>1</td>\n",
       "      <td>128</td>\n",
       "      <td>96</td>\n",
       "      <td>30444</td>\n",
       "      <td>45268</td>\n",
       "      <td>2208</td>\n",
       "      <td>216</td>\n",
       "      <td>5124</td>\n",
       "      <td>19132</td>\n",
       "      <td>182</td>\n",
       "      <td>2913</td>\n",
       "      <td>7576</td>\n",
       "      <td>7595</td>\n",
       "      <td>39617</td>\n",
       "      <td>25942</td>\n",
       "      <td>3279</td>\n",
       "    </tr>\n",
       "  </tbody>\n",
       "</table>\n",
       "</div>"
      ],
      "text/plain": [
       "                                                      url        address  \\\n",
       "count                                               51717          51717   \n",
       "unique                                              51717          11495   \n",
       "top     https://www.zomato.com/bangalore/jalsa-banasha...  Delivery Only   \n",
       "freq                                                    1            128   \n",
       "\n",
       "                   name online_order book_table   rate         phone location  \\\n",
       "count             51717        51717      51717  43942         50509    51696   \n",
       "unique             8792            2          2     64         14926       93   \n",
       "top     Cafe Coffee Day          Yes         No    NEW  080 43334321      BTM   \n",
       "freq                 96        30444      45268   2208           216     5124   \n",
       "\n",
       "          rest_type dish_liked      cuisines approx_cost(for two people)  \\\n",
       "count         51490      23639         51672                       51371   \n",
       "unique           93       5271          2723                          70   \n",
       "top     Quick Bites    Biryani  North Indian                         300   \n",
       "freq          19132        182          2913                        7576   \n",
       "\n",
       "       reviews_list menu_item listed_in(type) listed_in(city)  \n",
       "count         51717     51717           51717           51717  \n",
       "unique        22513      9098               7              30  \n",
       "top              []        []        Delivery             BTM  \n",
       "freq           7595     39617           25942            3279  "
      ]
     },
     "execution_count": 9,
     "metadata": {},
     "output_type": "execute_result"
    }
   ],
   "source": [
    "zomato.describe(include='object')"
   ]
  },
  {
   "cell_type": "markdown",
   "id": "d09d06d2",
   "metadata": {},
   "source": [
    "### Dropping the unwanted columns"
   ]
  },
  {
   "cell_type": "code",
   "execution_count": 10,
   "id": "b3d145c7",
   "metadata": {},
   "outputs": [],
   "source": [
    "zomato.drop(['url','address','phone','dish_liked','menu_item','reviews_list'],axis=1,inplace=True)"
   ]
  },
  {
   "cell_type": "code",
   "execution_count": 11,
   "id": "5582eeed",
   "metadata": {},
   "outputs": [
    {
     "data": {
      "text/plain": [
       "name                              0\n",
       "online_order                      0\n",
       "book_table                        0\n",
       "rate                           7775\n",
       "votes                             0\n",
       "location                         21\n",
       "rest_type                       227\n",
       "cuisines                         45\n",
       "approx_cost(for two people)     346\n",
       "listed_in(type)                   0\n",
       "listed_in(city)                   0\n",
       "dtype: int64"
      ]
     },
     "execution_count": 11,
     "metadata": {},
     "output_type": "execute_result"
    }
   ],
   "source": [
    "zomato.isnull().sum()"
   ]
  },
  {
   "cell_type": "markdown",
   "id": "1588139e",
   "metadata": {},
   "source": [
    "### Treating the missing values"
   ]
  },
  {
   "cell_type": "code",
   "execution_count": 12,
   "id": "d4c4d3ba",
   "metadata": {},
   "outputs": [
    {
     "data": {
      "text/plain": [
       "array(['4.1/5', '3.8/5', '3.7/5', '3.6/5', '4.6/5', '4.0/5', '4.2/5',\n",
       "       '3.9/5', '3.1/5', '3.0/5', '3.2/5', '3.3/5', '2.8/5', '4.4/5',\n",
       "       '4.3/5', 'NEW', '2.9/5', '3.5/5', nan, '2.6/5', '3.8 /5', '3.4/5',\n",
       "       '4.5/5', '2.5/5', '2.7/5', '4.7/5', '2.4/5', '2.2/5', '2.3/5',\n",
       "       '3.4 /5', '-', '3.6 /5', '4.8/5', '3.9 /5', '4.2 /5', '4.0 /5',\n",
       "       '4.1 /5', '3.7 /5', '3.1 /5', '2.9 /5', '3.3 /5', '2.8 /5',\n",
       "       '3.5 /5', '2.7 /5', '2.5 /5', '3.2 /5', '2.6 /5', '4.5 /5',\n",
       "       '4.3 /5', '4.4 /5', '4.9/5', '2.1/5', '2.0/5', '1.8/5', '4.6 /5',\n",
       "       '4.9 /5', '3.0 /5', '4.8 /5', '2.3 /5', '4.7 /5', '2.4 /5',\n",
       "       '2.1 /5', '2.2 /5', '2.0 /5', '1.8 /5'], dtype=object)"
      ]
     },
     "execution_count": 12,
     "metadata": {},
     "output_type": "execute_result"
    }
   ],
   "source": [
    "zomato.rate.unique()"
   ]
  },
  {
   "cell_type": "code",
   "execution_count": 13,
   "id": "cdd63d4c",
   "metadata": {},
   "outputs": [],
   "source": [
    "zomato['rate'] = zomato['rate'].apply(lambda x: str(x).replace('/5',''))"
   ]
  },
  {
   "cell_type": "code",
   "execution_count": 14,
   "id": "e97a5d25",
   "metadata": {},
   "outputs": [],
   "source": [
    "def treat_rate(x):\n",
    "    if (x=='NEW' or x=='-'):\n",
    "        return np.nan\n",
    "    else:\n",
    "        return float(x)\n",
    "    \n",
    "zomato['rate'] = zomato['rate'].apply(treat_rate)"
   ]
  },
  {
   "cell_type": "code",
   "execution_count": 15,
   "id": "bd1cf646",
   "metadata": {},
   "outputs": [
    {
     "data": {
      "text/plain": [
       "0    4.1\n",
       "1    4.1\n",
       "2    3.8\n",
       "3    3.7\n",
       "4    3.8\n",
       "Name: rate, dtype: float64"
      ]
     },
     "execution_count": 15,
     "metadata": {},
     "output_type": "execute_result"
    }
   ],
   "source": [
    "zomato.rate.head()"
   ]
  },
  {
   "cell_type": "code",
   "execution_count": 16,
   "id": "dfe94e19",
   "metadata": {
    "scrolled": true
   },
   "outputs": [
    {
     "data": {
      "text/plain": [
       "name                               0\n",
       "online_order                       0\n",
       "book_table                         0\n",
       "rate                           10052\n",
       "votes                              0\n",
       "location                          21\n",
       "rest_type                        227\n",
       "cuisines                          45\n",
       "approx_cost(for two people)      346\n",
       "listed_in(type)                    0\n",
       "listed_in(city)                    0\n",
       "dtype: int64"
      ]
     },
     "execution_count": 16,
     "metadata": {},
     "output_type": "execute_result"
    }
   ],
   "source": [
    "zomato.isnull().sum()"
   ]
  },
  {
   "cell_type": "code",
   "execution_count": 17,
   "id": "7b28758f",
   "metadata": {},
   "outputs": [],
   "source": [
    "zomato['approx_cost(for two people)'] = zomato['approx_cost(for two people)'].astype(object)"
   ]
  },
  {
   "cell_type": "code",
   "execution_count": 18,
   "id": "f138e864",
   "metadata": {},
   "outputs": [],
   "source": [
    "zomato['approx_cost(for two people)'] = zomato['approx_cost(for two people)'].apply(lambda x: str(x).replace(',',''))"
   ]
  },
  {
   "cell_type": "code",
   "execution_count": 19,
   "id": "9c73c527",
   "metadata": {},
   "outputs": [],
   "source": [
    "zomato['approx_cost(for two people)'] = zomato['approx_cost(for two people)'].astype(float)"
   ]
  },
  {
   "cell_type": "code",
   "execution_count": 20,
   "id": "a8b2984b",
   "metadata": {},
   "outputs": [],
   "source": [
    "zomato['rate'] = zomato['rate'].fillna(zomato['rate'].median())\n",
    "zomato['location'] = zomato['location'].fillna(zomato['location'].mode()[0])\n",
    "zomato['rest_type'] = zomato['rest_type'].fillna(zomato['rest_type'].mode()[0])\n",
    "zomato['cuisines'] = zomato['cuisines'].fillna(zomato['cuisines'].mode()[0])\n",
    "zomato['approx_cost(for two people)'] = zomato['approx_cost(for two people)'].fillna(zomato['approx_cost(for two people)'].median())"
   ]
  },
  {
   "cell_type": "code",
   "execution_count": 21,
   "id": "8536d81f",
   "metadata": {},
   "outputs": [
    {
     "data": {
      "text/plain": [
       "name                           0\n",
       "online_order                   0\n",
       "book_table                     0\n",
       "rate                           0\n",
       "votes                          0\n",
       "location                       0\n",
       "rest_type                      0\n",
       "cuisines                       0\n",
       "approx_cost(for two people)    0\n",
       "listed_in(type)                0\n",
       "listed_in(city)                0\n",
       "dtype: int64"
      ]
     },
     "execution_count": 21,
     "metadata": {},
     "output_type": "execute_result"
    }
   ],
   "source": [
    "zomato.isnull().sum()"
   ]
  },
  {
   "cell_type": "code",
   "execution_count": 22,
   "id": "5bfc0778",
   "metadata": {},
   "outputs": [
    {
     "data": {
      "text/plain": [
       "<AxesSubplot: >"
      ]
     },
     "execution_count": 22,
     "metadata": {},
     "output_type": "execute_result"
    },
    {
     "data": {
      "image/png": "[encoded data removed]",
      "text/plain": [
       "<Figure size 1500x600 with 1 Axes>"
      ]
     },
     "metadata": {},
     "output_type": "display_data"
    }
   ],
   "source": [
    "zomato.plot(kind='box')"
   ]
  },
  {
   "cell_type": "code",
   "execution_count": 23,
   "id": "c3e30d86",
   "metadata": {},
   "outputs": [
    {
     "data": {
      "text/html": [
       "<div>\n",
       "<style scoped>\n",
       "    .dataframe tbody tr th:only-of-type {\n",
       "        vertical-align: middle;\n",
       "    }\n",
       "\n",
       "    .dataframe tbody tr th {\n",
       "        vertical-align: top;\n",
       "    }\n",
       "\n",
       "    .dataframe thead th {\n",
       "        text-align: right;\n",
       "    }\n",
       "</style>\n",
       "<table border=\"1\" class=\"dataframe\">\n",
       "  <thead>\n",
       "    <tr style=\"text-align: right;\">\n",
       "      <th></th>\n",
       "      <th>name</th>\n",
       "      <th>online_order</th>\n",
       "      <th>book_table</th>\n",
       "      <th>rate</th>\n",
       "      <th>votes</th>\n",
       "      <th>location</th>\n",
       "      <th>rest_type</th>\n",
       "      <th>cuisines</th>\n",
       "      <th>approx_cost(for two people)</th>\n",
       "      <th>listed_in(type)</th>\n",
       "      <th>listed_in(city)</th>\n",
       "    </tr>\n",
       "  </thead>\n",
       "  <tbody>\n",
       "    <tr>\n",
       "      <th>0</th>\n",
       "      <td>Jalsa</td>\n",
       "      <td>Yes</td>\n",
       "      <td>Yes</td>\n",
       "      <td>4.1</td>\n",
       "      <td>775</td>\n",
       "      <td>Banashankari</td>\n",
       "      <td>Casual Dining</td>\n",
       "      <td>North Indian, Mughlai, Chinese</td>\n",
       "      <td>800.0</td>\n",
       "      <td>Buffet</td>\n",
       "      <td>Banashankari</td>\n",
       "    </tr>\n",
       "    <tr>\n",
       "      <th>1</th>\n",
       "      <td>Spice Elephant</td>\n",
       "      <td>Yes</td>\n",
       "      <td>No</td>\n",
       "      <td>4.1</td>\n",
       "      <td>787</td>\n",
       "      <td>Banashankari</td>\n",
       "      <td>Casual Dining</td>\n",
       "      <td>Chinese, North Indian, Thai</td>\n",
       "      <td>800.0</td>\n",
       "      <td>Buffet</td>\n",
       "      <td>Banashankari</td>\n",
       "    </tr>\n",
       "    <tr>\n",
       "      <th>2</th>\n",
       "      <td>San Churro Cafe</td>\n",
       "      <td>Yes</td>\n",
       "      <td>No</td>\n",
       "      <td>3.8</td>\n",
       "      <td>918</td>\n",
       "      <td>Banashankari</td>\n",
       "      <td>Cafe, Casual Dining</td>\n",
       "      <td>Cafe, Mexican, Italian</td>\n",
       "      <td>800.0</td>\n",
       "      <td>Buffet</td>\n",
       "      <td>Banashankari</td>\n",
       "    </tr>\n",
       "    <tr>\n",
       "      <th>3</th>\n",
       "      <td>Addhuri Udupi Bhojana</td>\n",
       "      <td>No</td>\n",
       "      <td>No</td>\n",
       "      <td>3.7</td>\n",
       "      <td>88</td>\n",
       "      <td>Banashankari</td>\n",
       "      <td>Quick Bites</td>\n",
       "      <td>South Indian, North Indian</td>\n",
       "      <td>300.0</td>\n",
       "      <td>Buffet</td>\n",
       "      <td>Banashankari</td>\n",
       "    </tr>\n",
       "    <tr>\n",
       "      <th>4</th>\n",
       "      <td>Grand Village</td>\n",
       "      <td>No</td>\n",
       "      <td>No</td>\n",
       "      <td>3.8</td>\n",
       "      <td>166</td>\n",
       "      <td>Basavanagudi</td>\n",
       "      <td>Casual Dining</td>\n",
       "      <td>North Indian, Rajasthani</td>\n",
       "      <td>600.0</td>\n",
       "      <td>Buffet</td>\n",
       "      <td>Banashankari</td>\n",
       "    </tr>\n",
       "  </tbody>\n",
       "</table>\n",
       "</div>"
      ],
      "text/plain": [
       "                    name online_order book_table  rate  votes      location  \\\n",
       "0                  Jalsa          Yes        Yes   4.1    775  Banashankari   \n",
       "1         Spice Elephant          Yes         No   4.1    787  Banashankari   \n",
       "2        San Churro Cafe          Yes         No   3.8    918  Banashankari   \n",
       "3  Addhuri Udupi Bhojana           No         No   3.7     88  Banashankari   \n",
       "4          Grand Village           No         No   3.8    166  Basavanagudi   \n",
       "\n",
       "             rest_type                        cuisines  \\\n",
       "0        Casual Dining  North Indian, Mughlai, Chinese   \n",
       "1        Casual Dining     Chinese, North Indian, Thai   \n",
       "2  Cafe, Casual Dining          Cafe, Mexican, Italian   \n",
       "3          Quick Bites      South Indian, North Indian   \n",
       "4        Casual Dining        North Indian, Rajasthani   \n",
       "\n",
       "   approx_cost(for two people) listed_in(type) listed_in(city)  \n",
       "0                        800.0          Buffet    Banashankari  \n",
       "1                        800.0          Buffet    Banashankari  \n",
       "2                        800.0          Buffet    Banashankari  \n",
       "3                        300.0          Buffet    Banashankari  \n",
       "4                        600.0          Buffet    Banashankari  "
      ]
     },
     "execution_count": 23,
     "metadata": {},
     "output_type": "execute_result"
    }
   ],
   "source": [
    "zomato.head()"
   ]
  },
  {
   "cell_type": "code",
   "execution_count": 24,
   "id": "ae9411fc",
   "metadata": {
    "scrolled": true
   },
   "outputs": [
    {
     "data": {
      "text/plain": [
       "<AxesSubplot: >"
      ]
     },
     "execution_count": 24,
     "metadata": {},
     "output_type": "execute_result"
    },
    {
     "data": {
      "image/png": "[encoded data removed]",
      "text/plain": [
       "<Figure size 1500x600 with 1 Axes>"
      ]
     },
     "metadata": {},
     "output_type": "display_data"
    }
   ],
   "source": [
    "zomato.name.value_counts()[:10].plot(kind='bar')"
   ]
  },
  {
   "cell_type": "code",
   "execution_count": 25,
   "id": "77b63c48",
   "metadata": {
    "scrolled": false
   },
   "outputs": [
    {
     "data": {
      "text/plain": [
       "<AxesSubplot: >"
      ]
     },
     "execution_count": 25,
     "metadata": {},
     "output_type": "execute_result"
    },
    {
     "data": {
      "image/png": "[encoded data removed]",
      "text/plain": [
       "<Figure size 1500x600 with 1 Axes>"
      ]
     },
     "metadata": {},
     "output_type": "display_data"
    }
   ],
   "source": [
    "zomato.location.value_counts()[:10].plot(kind='bar')"
   ]
  },
  {
   "cell_type": "code",
   "execution_count": 26,
   "id": "2f0e1384",
   "metadata": {},
   "outputs": [
    {
     "data": {
      "text/plain": [
       "<AxesSubplot: >"
      ]
     },
     "execution_count": 26,
     "metadata": {},
     "output_type": "execute_result"
    },
    {
     "data": {
      "image/png": "[encoded data removed]",
      "text/plain": [
       "<Figure size 1500x600 with 1 Axes>"
      ]
     },
     "metadata": {},
     "output_type": "display_data"
    }
   ],
   "source": [
    "zomato['rest_type'].value_counts()[:10].plot(kind='bar')"
   ]
  },
  {
   "cell_type": "code",
   "execution_count": 27,
   "id": "de2b2a08",
   "metadata": {},
   "outputs": [
    {
     "data": {
      "text/plain": [
       "Quick Bites           19359\n",
       "Casual Dining         10330\n",
       "Cafe                   3732\n",
       "Delivery               2604\n",
       "Dessert Parlor         2263\n",
       "Takeaway, Delivery     2037\n",
       "Casual Dining, Bar     1154\n",
       "Bakery                 1141\n",
       "Name: rest_type, dtype: int64"
      ]
     },
     "execution_count": 27,
     "metadata": {},
     "output_type": "execute_result"
    }
   ],
   "source": [
    "zomato['rest_type'].value_counts()[zomato['rest_type'].value_counts()>1000]"
   ]
  },
  {
   "cell_type": "code",
   "execution_count": 28,
   "id": "e9202810",
   "metadata": {},
   "outputs": [],
   "source": [
    "extra = zomato['rest_type'].value_counts()[zomato['rest_type'].value_counts()<1000]"
   ]
  },
  {
   "cell_type": "code",
   "execution_count": 29,
   "id": "e198c753",
   "metadata": {},
   "outputs": [],
   "source": [
    "def treat_rest(x):\n",
    "    if x in extra:\n",
    "        return 'others'\n",
    "    else:\n",
    "        return x"
   ]
  },
  {
   "cell_type": "code",
   "execution_count": 30,
   "id": "85e97272",
   "metadata": {},
   "outputs": [],
   "source": [
    "zomato['rest_type'] = zomato['rest_type'].apply(treat_rest)"
   ]
  },
  {
   "cell_type": "code",
   "execution_count": 31,
   "id": "0be6c04b",
   "metadata": {},
   "outputs": [
    {
     "data": {
      "text/plain": [
       "Quick Bites           19359\n",
       "Casual Dining         10330\n",
       "others                 9097\n",
       "Cafe                   3732\n",
       "Delivery               2604\n",
       "Dessert Parlor         2263\n",
       "Takeaway, Delivery     2037\n",
       "Casual Dining, Bar     1154\n",
       "Bakery                 1141\n",
       "Name: rest_type, dtype: int64"
      ]
     },
     "execution_count": 31,
     "metadata": {},
     "output_type": "execute_result"
    }
   ],
   "source": [
    "zomato['rest_type'].value_counts()"
   ]
  },
  {
   "cell_type": "code",
   "execution_count": 32,
   "id": "86f0b650",
   "metadata": {},
   "outputs": [
    {
     "data": {
      "text/plain": [
       "Delivery              25942\n",
       "Dine-out              17779\n",
       "Desserts               3593\n",
       "Cafes                  1723\n",
       "Drinks & nightlife     1101\n",
       "Buffet                  882\n",
       "Pubs and bars           697\n",
       "Name: listed_in(type), dtype: int64"
      ]
     },
     "execution_count": 32,
     "metadata": {},
     "output_type": "execute_result"
    }
   ],
   "source": [
    "zomato['listed_in(type)'].value_counts()"
   ]
  },
  {
   "cell_type": "code",
   "execution_count": 33,
   "id": "ec8fcc20",
   "metadata": {},
   "outputs": [
    {
     "data": {
      "text/plain": [
       "BTM                      3279\n",
       "Koramangala 7th Block    2938\n",
       "Koramangala 5th Block    2836\n",
       "Koramangala 4th Block    2779\n",
       "Koramangala 6th Block    2623\n",
       "Jayanagar                2371\n",
       "JP Nagar                 2096\n",
       "Indiranagar              1860\n",
       "Church Street            1827\n",
       "MG Road                  1811\n",
       "Brigade Road             1769\n",
       "Lavelle Road             1744\n",
       "HSR                      1741\n",
       "Marathahalli             1659\n",
       "Residency Road           1620\n",
       "Whitefield               1620\n",
       "Bannerghatta Road        1617\n",
       "Brookefield              1518\n",
       "Old Airport Road         1425\n",
       "Kammanahalli             1329\n",
       "Kalyan Nagar             1309\n",
       "Basavanagudi             1266\n",
       "Sarjapur Road            1261\n",
       "Electronic City          1229\n",
       "Bellandur                1227\n",
       "Frazer Town              1185\n",
       "Malleshwaram             1096\n",
       "Rajajinagar              1079\n",
       "Banashankari              863\n",
       "New BEL Road              740\n",
       "Name: listed_in(city), dtype: int64"
      ]
     },
     "execution_count": 33,
     "metadata": {},
     "output_type": "execute_result"
    }
   ],
   "source": [
    "zomato['listed_in(city)'].value_counts()"
   ]
  },
  {
   "cell_type": "code",
   "execution_count": 34,
   "id": "230a4a25",
   "metadata": {},
   "outputs": [],
   "source": [
    "extra1 = zomato['location'].value_counts()[zomato['location'].value_counts()<300]"
   ]
  },
  {
   "cell_type": "code",
   "execution_count": 35,
   "id": "d68d2aa5",
   "metadata": {},
   "outputs": [],
   "source": [
    "def treat_location(x):\n",
    "    if x in extra1:\n",
    "        return 'others'\n",
    "    else:\n",
    "        return x"
   ]
  },
  {
   "cell_type": "code",
   "execution_count": 36,
   "id": "82ca9884",
   "metadata": {},
   "outputs": [],
   "source": [
    "zomato['location'] = zomato['location'].apply(treat_location)"
   ]
  },
  {
   "cell_type": "code",
   "execution_count": 37,
   "id": "3e5e859b",
   "metadata": {},
   "outputs": [
    {
     "data": {
      "text/plain": [
       "BTM                      5145\n",
       "others                   4707\n",
       "HSR                      2523\n",
       "Koramangala 5th Block    2504\n",
       "JP Nagar                 2235\n",
       "Whitefield               2144\n",
       "Indiranagar              2083\n",
       "Jayanagar                1926\n",
       "Marathahalli             1846\n",
       "Bannerghatta Road        1630\n",
       "Bellandur                1286\n",
       "Electronic City          1258\n",
       "Koramangala 1st Block    1238\n",
       "Brigade Road             1218\n",
       "Koramangala 7th Block    1181\n",
       "Koramangala 6th Block    1156\n",
       "Sarjapur Road            1065\n",
       "Ulsoor                   1023\n",
       "Koramangala 4th Block    1017\n",
       "MG Road                   918\n",
       "Banashankari              906\n",
       "Kalyan Nagar              853\n",
       "Richmond Road             812\n",
       "Frazer Town               727\n",
       "Malleshwaram              725\n",
       "Basavanagudi              684\n",
       "Residency Road            675\n",
       "Banaswadi                 664\n",
       "Brookefield               658\n",
       "New BEL Road              649\n",
       "Kammanahalli              648\n",
       "Rajajinagar               591\n",
       "Church Street             569\n",
       "Lavelle Road              529\n",
       "Shanti Nagar              511\n",
       "Shivajinagar              499\n",
       "Domlur                    496\n",
       "Cunningham Road           491\n",
       "Old Airport Road          446\n",
       "Ejipura                   439\n",
       "Commercial Street         370\n",
       "St. Marks Road            352\n",
       "Koramangala 8th Block     320\n",
       "Name: location, dtype: int64"
      ]
     },
     "execution_count": 37,
     "metadata": {},
     "output_type": "execute_result"
    }
   ],
   "source": [
    "zomato['location'].value_counts()"
   ]
  },
  {
   "cell_type": "code",
   "execution_count": 38,
   "id": "7eb7411e",
   "metadata": {},
   "outputs": [],
   "source": [
    "extra2 = zomato['cuisines'].value_counts()[zomato['cuisines'].value_counts()<100]"
   ]
  },
  {
   "cell_type": "code",
   "execution_count": 39,
   "id": "7293f6b5",
   "metadata": {},
   "outputs": [],
   "source": [
    "def treat_cuisine(x):\n",
    "    if x in extra2:\n",
    "        return 'others'\n",
    "    else:\n",
    "        return x"
   ]
  },
  {
   "cell_type": "code",
   "execution_count": 40,
   "id": "ab078771",
   "metadata": {},
   "outputs": [],
   "source": [
    "zomato['cuisines'] = zomato['cuisines'].apply(treat_cuisine)"
   ]
  },
  {
   "cell_type": "code",
   "execution_count": 41,
   "id": "29e6006b",
   "metadata": {
    "scrolled": true
   },
   "outputs": [
    {
     "data": {
      "text/plain": [
       "others                                 26460\n",
       "North Indian                            2958\n",
       "North Indian, Chinese                   2385\n",
       "South Indian                            1828\n",
       "Biryani                                  918\n",
       "                                       ...  \n",
       "South Indian, Chinese, North Indian      105\n",
       "Italian, Pizza                           105\n",
       "North Indian, Mughlai, Chinese           104\n",
       "South Indian, Fast Food                  104\n",
       "North Indian, Chinese, Seafood           102\n",
       "Name: cuisines, Length: 70, dtype: int64"
      ]
     },
     "execution_count": 41,
     "metadata": {},
     "output_type": "execute_result"
    }
   ],
   "source": [
    "zomato['cuisines'].value_counts()"
   ]
  },
  {
   "cell_type": "code",
   "execution_count": 42,
   "id": "246f24b9",
   "metadata": {},
   "outputs": [
    {
     "data": {
      "text/plain": [
       "(44168, 11)"
      ]
     },
     "execution_count": 42,
     "metadata": {},
     "output_type": "execute_result"
    }
   ],
   "source": [
    "check = zomato[['votes','approx_cost(for two people)']]\n",
    "\n",
    "q1 = check.quantile(0.25)\n",
    "q3 = check.quantile(0.75)\n",
    "iqr = q3 - q1\n",
    "\n",
    "ll = q1 - 2 * iqr\n",
    "ul = q3 + 2 * iqr\n",
    "\n",
    "data = zomato[~((check<ll)|(check>ul)).any(axis=1)]\n",
    "data.shape"
   ]
  },
  {
   "cell_type": "markdown",
   "id": "5ddcc202",
   "metadata": {},
   "source": [
    "### Univariate Analysis"
   ]
  },
  {
   "cell_type": "code",
   "execution_count": 43,
   "id": "9878c992",
   "metadata": {},
   "outputs": [
    {
     "data": {
      "image/png": "[encoded data removed]",
      "text/plain": [
       "<Figure size 1500x600 with 1 Axes>"
      ]
     },
     "metadata": {},
     "output_type": "display_data"
    },
    {
     "data": {
      "image/png": "[encoded data removed]",
      "text/plain": [
       "<Figure size 1500x600 with 1 Axes>"
      ]
     },
     "metadata": {},
     "output_type": "display_data"
    },
    {
     "data": {
      "image/png": "[encoded data removed]",
      "text/plain": [
       "<Figure size 1500x600 with 1 Axes>"
      ]
     },
     "metadata": {},
     "output_type": "display_data"
    }
   ],
   "source": [
    "# for Numerical columns\n",
    "num = zomato.select_dtypes(include=np.number)\n",
    "for i in num:\n",
    "    sns.distplot(zomato[i])\n",
    "    plt.title(i)\n",
    "    plt.show()"
   ]
  },
  {
   "cell_type": "code",
   "execution_count": 44,
   "id": "93fead03",
   "metadata": {},
   "outputs": [
    {
     "ename": "ValueError",
     "evalue": "could not convert string to float: 'Jalsa'",
     "output_type": "error",
     "traceback": [
      "\u001b[1;31m---------------------------------------------------------------------------\u001b[0m",
      "\u001b[1;31mValueError\u001b[0m                                Traceback (most recent call last)",
      "Cell \u001b[1;32mIn[44], line 4\u001b[0m\n\u001b[0;32m      2\u001b[0m cat \u001b[38;5;241m=\u001b[39m zomato\u001b[38;5;241m.\u001b[39mselect_dtypes(include\u001b[38;5;241m=\u001b[39m\u001b[38;5;124m'\u001b[39m\u001b[38;5;124mobject\u001b[39m\u001b[38;5;124m'\u001b[39m)\n\u001b[0;32m      3\u001b[0m \u001b[38;5;28;01mfor\u001b[39;00m i \u001b[38;5;129;01min\u001b[39;00m cat:\n\u001b[1;32m----> 4\u001b[0m     \u001b[43msns\u001b[49m\u001b[38;5;241;43m.\u001b[39;49m\u001b[43mcountplot\u001b[49m\u001b[43m(\u001b[49m\u001b[43mzomato\u001b[49m\u001b[43m[\u001b[49m\u001b[43mi\u001b[49m\u001b[43m]\u001b[49m\u001b[43m)\u001b[49m\n\u001b[0;32m      5\u001b[0m     plt\u001b[38;5;241m.\u001b[39mtitle(i)\n\u001b[0;32m      6\u001b[0m     plt\u001b[38;5;241m.\u001b[39mshow()\n",
      "File \u001b[1;32m~\\anaconda3\\lib\\site-packages\\seaborn\\categorical.py:2942\u001b[0m, in \u001b[0;36mcountplot\u001b[1;34m(data, x, y, hue, order, hue_order, orient, color, palette, saturation, width, dodge, ax, **kwargs)\u001b[0m\n\u001b[0;32m   2939\u001b[0m \u001b[38;5;28;01melif\u001b[39;00m x \u001b[38;5;129;01mis\u001b[39;00m \u001b[38;5;129;01mnot\u001b[39;00m \u001b[38;5;28;01mNone\u001b[39;00m \u001b[38;5;129;01mand\u001b[39;00m y \u001b[38;5;129;01mis\u001b[39;00m \u001b[38;5;129;01mnot\u001b[39;00m \u001b[38;5;28;01mNone\u001b[39;00m:\n\u001b[0;32m   2940\u001b[0m     \u001b[38;5;28;01mraise\u001b[39;00m \u001b[38;5;167;01mValueError\u001b[39;00m(\u001b[38;5;124m\"\u001b[39m\u001b[38;5;124mCannot pass values for both `x` and `y`\u001b[39m\u001b[38;5;124m\"\u001b[39m)\n\u001b[1;32m-> 2942\u001b[0m plotter \u001b[38;5;241m=\u001b[39m \u001b[43m_CountPlotter\u001b[49m\u001b[43m(\u001b[49m\n\u001b[0;32m   2943\u001b[0m \u001b[43m    \u001b[49m\u001b[43mx\u001b[49m\u001b[43m,\u001b[49m\u001b[43m \u001b[49m\u001b[43my\u001b[49m\u001b[43m,\u001b[49m\u001b[43m \u001b[49m\u001b[43mhue\u001b[49m\u001b[43m,\u001b[49m\u001b[43m \u001b[49m\u001b[43mdata\u001b[49m\u001b[43m,\u001b[49m\u001b[43m \u001b[49m\u001b[43morder\u001b[49m\u001b[43m,\u001b[49m\u001b[43m \u001b[49m\u001b[43mhue_order\u001b[49m\u001b[43m,\u001b[49m\n\u001b[0;32m   2944\u001b[0m \u001b[43m    \u001b[49m\u001b[43mestimator\u001b[49m\u001b[43m,\u001b[49m\u001b[43m \u001b[49m\u001b[43merrorbar\u001b[49m\u001b[43m,\u001b[49m\u001b[43m \u001b[49m\u001b[43mn_boot\u001b[49m\u001b[43m,\u001b[49m\u001b[43m \u001b[49m\u001b[43munits\u001b[49m\u001b[43m,\u001b[49m\u001b[43m \u001b[49m\u001b[43mseed\u001b[49m\u001b[43m,\u001b[49m\n\u001b[0;32m   2945\u001b[0m \u001b[43m    \u001b[49m\u001b[43morient\u001b[49m\u001b[43m,\u001b[49m\u001b[43m \u001b[49m\u001b[43mcolor\u001b[49m\u001b[43m,\u001b[49m\u001b[43m \u001b[49m\u001b[43mpalette\u001b[49m\u001b[43m,\u001b[49m\u001b[43m \u001b[49m\u001b[43msaturation\u001b[49m\u001b[43m,\u001b[49m\n\u001b[0;32m   2946\u001b[0m \u001b[43m    \u001b[49m\u001b[43mwidth\u001b[49m\u001b[43m,\u001b[49m\u001b[43m \u001b[49m\u001b[43merrcolor\u001b[49m\u001b[43m,\u001b[49m\u001b[43m \u001b[49m\u001b[43merrwidth\u001b[49m\u001b[43m,\u001b[49m\u001b[43m \u001b[49m\u001b[43mcapsize\u001b[49m\u001b[43m,\u001b[49m\u001b[43m \u001b[49m\u001b[43mdodge\u001b[49m\n\u001b[0;32m   2947\u001b[0m \u001b[43m\u001b[49m\u001b[43m)\u001b[49m\n\u001b[0;32m   2949\u001b[0m plotter\u001b[38;5;241m.\u001b[39mvalue_label \u001b[38;5;241m=\u001b[39m \u001b[38;5;124m\"\u001b[39m\u001b[38;5;124mcount\u001b[39m\u001b[38;5;124m\"\u001b[39m\n\u001b[0;32m   2951\u001b[0m \u001b[38;5;28;01mif\u001b[39;00m ax \u001b[38;5;129;01mis\u001b[39;00m \u001b[38;5;28;01mNone\u001b[39;00m:\n",
      "File \u001b[1;32m~\\anaconda3\\lib\\site-packages\\seaborn\\categorical.py:1530\u001b[0m, in \u001b[0;36m_BarPlotter.__init__\u001b[1;34m(self, x, y, hue, data, order, hue_order, estimator, errorbar, n_boot, units, seed, orient, color, palette, saturation, width, errcolor, errwidth, capsize, dodge)\u001b[0m\n\u001b[0;32m   1525\u001b[0m \u001b[38;5;28;01mdef\u001b[39;00m \u001b[38;5;21m__init__\u001b[39m(\u001b[38;5;28mself\u001b[39m, x, y, hue, data, order, hue_order,\n\u001b[0;32m   1526\u001b[0m              estimator, errorbar, n_boot, units, seed,\n\u001b[0;32m   1527\u001b[0m              orient, color, palette, saturation, width,\n\u001b[0;32m   1528\u001b[0m              errcolor, errwidth, capsize, dodge):\n\u001b[0;32m   1529\u001b[0m     \u001b[38;5;124;03m\"\"\"Initialize the plotter.\"\"\"\u001b[39;00m\n\u001b[1;32m-> 1530\u001b[0m     \u001b[38;5;28;43mself\u001b[39;49m\u001b[38;5;241;43m.\u001b[39;49m\u001b[43mestablish_variables\u001b[49m\u001b[43m(\u001b[49m\u001b[43mx\u001b[49m\u001b[43m,\u001b[49m\u001b[43m \u001b[49m\u001b[43my\u001b[49m\u001b[43m,\u001b[49m\u001b[43m \u001b[49m\u001b[43mhue\u001b[49m\u001b[43m,\u001b[49m\u001b[43m \u001b[49m\u001b[43mdata\u001b[49m\u001b[43m,\u001b[49m\u001b[43m \u001b[49m\u001b[43morient\u001b[49m\u001b[43m,\u001b[49m\n\u001b[0;32m   1531\u001b[0m \u001b[43m                             \u001b[49m\u001b[43morder\u001b[49m\u001b[43m,\u001b[49m\u001b[43m \u001b[49m\u001b[43mhue_order\u001b[49m\u001b[43m,\u001b[49m\u001b[43m \u001b[49m\u001b[43munits\u001b[49m\u001b[43m)\u001b[49m\n\u001b[0;32m   1532\u001b[0m     \u001b[38;5;28mself\u001b[39m\u001b[38;5;241m.\u001b[39mestablish_colors(color, palette, saturation)\n\u001b[0;32m   1533\u001b[0m     \u001b[38;5;28mself\u001b[39m\u001b[38;5;241m.\u001b[39mestimate_statistic(estimator, errorbar, n_boot, seed)\n",
      "File \u001b[1;32m~\\anaconda3\\lib\\site-packages\\seaborn\\categorical.py:516\u001b[0m, in \u001b[0;36m_CategoricalPlotter.establish_variables\u001b[1;34m(self, x, y, hue, data, orient, order, hue_order, units)\u001b[0m\n\u001b[0;32m    513\u001b[0m     plot_data \u001b[38;5;241m=\u001b[39m data\n\u001b[0;32m    515\u001b[0m \u001b[38;5;66;03m# Convert to a list of arrays, the common representation\u001b[39;00m\n\u001b[1;32m--> 516\u001b[0m plot_data \u001b[38;5;241m=\u001b[39m [np\u001b[38;5;241m.\u001b[39masarray(d, \u001b[38;5;28mfloat\u001b[39m) \u001b[38;5;28;01mfor\u001b[39;00m d \u001b[38;5;129;01min\u001b[39;00m plot_data]\n\u001b[0;32m    518\u001b[0m \u001b[38;5;66;03m# The group names will just be numeric indices\u001b[39;00m\n\u001b[0;32m    519\u001b[0m group_names \u001b[38;5;241m=\u001b[39m \u001b[38;5;28mlist\u001b[39m(\u001b[38;5;28mrange\u001b[39m(\u001b[38;5;28mlen\u001b[39m(plot_data)))\n",
      "File \u001b[1;32m~\\anaconda3\\lib\\site-packages\\seaborn\\categorical.py:516\u001b[0m, in \u001b[0;36m<listcomp>\u001b[1;34m(.0)\u001b[0m\n\u001b[0;32m    513\u001b[0m     plot_data \u001b[38;5;241m=\u001b[39m data\n\u001b[0;32m    515\u001b[0m \u001b[38;5;66;03m# Convert to a list of arrays, the common representation\u001b[39;00m\n\u001b[1;32m--> 516\u001b[0m plot_data \u001b[38;5;241m=\u001b[39m [\u001b[43mnp\u001b[49m\u001b[38;5;241;43m.\u001b[39;49m\u001b[43masarray\u001b[49m\u001b[43m(\u001b[49m\u001b[43md\u001b[49m\u001b[43m,\u001b[49m\u001b[43m \u001b[49m\u001b[38;5;28;43mfloat\u001b[39;49m\u001b[43m)\u001b[49m \u001b[38;5;28;01mfor\u001b[39;00m d \u001b[38;5;129;01min\u001b[39;00m plot_data]\n\u001b[0;32m    518\u001b[0m \u001b[38;5;66;03m# The group names will just be numeric indices\u001b[39;00m\n\u001b[0;32m    519\u001b[0m group_names \u001b[38;5;241m=\u001b[39m \u001b[38;5;28mlist\u001b[39m(\u001b[38;5;28mrange\u001b[39m(\u001b[38;5;28mlen\u001b[39m(plot_data)))\n",
      "File \u001b[1;32m~\\anaconda3\\lib\\site-packages\\pandas\\core\\series.py:872\u001b[0m, in \u001b[0;36mSeries.__array__\u001b[1;34m(self, dtype)\u001b[0m\n\u001b[0;32m    825\u001b[0m \u001b[38;5;28;01mdef\u001b[39;00m \u001b[38;5;21m__array__\u001b[39m(\u001b[38;5;28mself\u001b[39m, dtype: npt\u001b[38;5;241m.\u001b[39mDTypeLike \u001b[38;5;241m|\u001b[39m \u001b[38;5;28;01mNone\u001b[39;00m \u001b[38;5;241m=\u001b[39m \u001b[38;5;28;01mNone\u001b[39;00m) \u001b[38;5;241m-\u001b[39m\u001b[38;5;241m>\u001b[39m np\u001b[38;5;241m.\u001b[39mndarray:\n\u001b[0;32m    826\u001b[0m     \u001b[38;5;124;03m\"\"\"\u001b[39;00m\n\u001b[0;32m    827\u001b[0m \u001b[38;5;124;03m    Return the values as a NumPy array.\u001b[39;00m\n\u001b[0;32m    828\u001b[0m \n\u001b[1;32m   (...)\u001b[0m\n\u001b[0;32m    870\u001b[0m \u001b[38;5;124;03m          dtype='datetime64[ns]')\u001b[39;00m\n\u001b[0;32m    871\u001b[0m \u001b[38;5;124;03m    \"\"\"\u001b[39;00m\n\u001b[1;32m--> 872\u001b[0m     \u001b[38;5;28;01mreturn\u001b[39;00m \u001b[43mnp\u001b[49m\u001b[38;5;241;43m.\u001b[39;49m\u001b[43masarray\u001b[49m\u001b[43m(\u001b[49m\u001b[38;5;28;43mself\u001b[39;49m\u001b[38;5;241;43m.\u001b[39;49m\u001b[43m_values\u001b[49m\u001b[43m,\u001b[49m\u001b[43m \u001b[49m\u001b[43mdtype\u001b[49m\u001b[43m)\u001b[49m\n",
      "\u001b[1;31mValueError\u001b[0m: could not convert string to float: 'Jalsa'"
     ]
    }
   ],
   "source": [
    "# for Categorical columns\n",
    "cat = zomato.select_dtypes(include='object')\n",
    "for i in cat:\n",
    "    sns.countplot(zomato[i])\n",
    "    plt.title(i)\n",
    "    plt.show()"
   ]
  },
  {
   "cell_type": "markdown",
   "id": "4f667826",
   "metadata": {},
   "source": [
    "### Bivariate Analysis"
   ]
  },
  {
   "cell_type": "code",
   "execution_count": null,
   "id": "eb17026d",
   "metadata": {},
   "outputs": [],
   "source": [
    "# Num vs Num : Scatterplot\n",
    "for i in num:\n",
    "    sns.scatterplot(data=zomato, x='approx_cost(for two people)', y=zomato.loc[:,i])\n",
    "    plt.title(i)\n",
    "    plt.tight_layout()\n",
    "    plt.show()"
   ]
  },
  {
   "cell_type": "code",
   "execution_count": null,
   "id": "7a0e3393",
   "metadata": {},
   "outputs": [],
   "source": [
    "# Cat vs Num : boxplot/violinplot and barplot\n",
    "for i in cat:\n",
    "    sns.barplot(data=zomato, x='approx_cost(for two people)', y=zomato.loc[:,i])\n",
    "    plt.title(i)\n",
    "    plt.tight_layout()\n",
    "    plt.show()"
   ]
  },
  {
   "cell_type": "markdown",
   "id": "191d2682",
   "metadata": {},
   "source": [
    "### Multivariate Analysis"
   ]
  },
  {
   "cell_type": "code",
   "execution_count": null,
   "id": "31560580",
   "metadata": {},
   "outputs": [],
   "source": [
    "sns.pairplot(zomato)\n",
    "plt.tight_layout()\n",
    "plt.show()"
   ]
  },
  {
   "cell_type": "markdown",
   "id": "72fe0c88",
   "metadata": {},
   "source": [
    "### Correlation Analysis"
   ]
  },
  {
   "cell_type": "code",
   "execution_count": null,
   "id": "05a8e510",
   "metadata": {},
   "outputs": [],
   "source": [
    "sns.heatmap(zomato.corr(), annot=True)"
   ]
  },
  {
   "cell_type": "markdown",
   "id": "849503ca",
   "metadata": {},
   "source": [
    "### Encoding"
   ]
  },
  {
   "cell_type": "code",
   "execution_count": null,
   "id": "5d8338e6",
   "metadata": {},
   "outputs": [],
   "source": [
    "data.head()"
   ]
  },
  {
   "cell_type": "code",
   "execution_count": null,
   "id": "8c420aad",
   "metadata": {},
   "outputs": [],
   "source": [
    "data['book_table_yes'] = pd.get_dummies(data['book_table'],drop_first=True)"
   ]
  },
  {
   "cell_type": "code",
   "execution_count": null,
   "id": "f091ae4b",
   "metadata": {},
   "outputs": [],
   "source": [
    "data.head()"
   ]
  },
  {
   "cell_type": "code",
   "execution_count": null,
   "id": "3150b683",
   "metadata": {},
   "outputs": [],
   "source": [
    "data['listed_in(type)'].unique()"
   ]
  },
  {
   "cell_type": "code",
   "execution_count": null,
   "id": "9f30a4a2",
   "metadata": {},
   "outputs": [],
   "source": [
    "dic = data['rest_type'].value_counts(normalize=True).to_dict()\n",
    "\n",
    "data['rest_type'] = data['rest_type'].map(dic)"
   ]
  },
  {
   "cell_type": "code",
   "execution_count": null,
   "id": "626ef64f",
   "metadata": {},
   "outputs": [],
   "source": [
    "le = LabelEncoder()\n",
    "data['listed_in(type)'] = le.fit_transform(data['listed_in(type)'])\n",
    "data['online_order'] = le.fit_transform(data['online_order'])"
   ]
  },
  {
   "cell_type": "code",
   "execution_count": null,
   "id": "14ee7ee6",
   "metadata": {},
   "outputs": [],
   "source": [
    "dic1 = data['location'].value_counts(normalize=True).to_dict()\n",
    "\n",
    "data['location'] = data['location'].map(dic1)"
   ]
  },
  {
   "cell_type": "code",
   "execution_count": null,
   "id": "53870b44",
   "metadata": {},
   "outputs": [],
   "source": [
    "data['name'] = data['name'].map(data.groupby('name')['approx_cost(for two people)'].median())"
   ]
  },
  {
   "cell_type": "code",
   "execution_count": null,
   "id": "ac326d2b",
   "metadata": {},
   "outputs": [],
   "source": [
    "data['cuisines'] = data['cuisines'].map(data.groupby('cuisines')['approx_cost(for two people)'].median())"
   ]
  },
  {
   "cell_type": "code",
   "execution_count": null,
   "id": "856c4606",
   "metadata": {},
   "outputs": [],
   "source": [
    "df = data.copy()"
   ]
  },
  {
   "cell_type": "code",
   "execution_count": null,
   "id": "54194f81",
   "metadata": {},
   "outputs": [],
   "source": [
    "df.drop(['book_table'],axis=1,inplace=True)"
   ]
  },
  {
   "cell_type": "code",
   "execution_count": null,
   "id": "99a8c195",
   "metadata": {},
   "outputs": [],
   "source": [
    "df.drop('listed_in(city)',axis=1,inplace=True)"
   ]
  },
  {
   "cell_type": "code",
   "execution_count": null,
   "id": "5efceb7a",
   "metadata": {
    "scrolled": true
   },
   "outputs": [],
   "source": [
    "df.head()"
   ]
  },
  {
   "cell_type": "markdown",
   "id": "3f58a521",
   "metadata": {},
   "source": [
    "### Perform hypothesis testing to find the significant variables"
   ]
  },
  {
   "cell_type": "code",
   "execution_count": null,
   "id": "112db252",
   "metadata": {},
   "outputs": [],
   "source": [
    "# H0 : The variable is insignificant (No relationship between variable and target)\n",
    "# H1 : The variable is significant (There is a relationship between variable and target)\n",
    "# We carry out tests for each column wrt the target column.\n",
    "df.columns"
   ]
  },
  {
   "cell_type": "code",
   "execution_count": null,
   "id": "c988a062",
   "metadata": {},
   "outputs": [],
   "source": [
    "df.dtypes\n",
    "# When both the columns that need to be tested are numerical, we use z-test"
   ]
  },
  {
   "cell_type": "code",
   "execution_count": null,
   "id": "5e497b45",
   "metadata": {},
   "outputs": [],
   "source": [
    "cols = ['name', 'online_order', 'rate', 'votes', 'location', 'rest_type',\n",
    "       'cuisines', 'listed_in(type)', 'book_table_yes']\n",
    "for i in cols:\n",
    "    n1 = len(df['approx_cost(for two people)'])\n",
    "    n2 = len(df[i])\n",
    "    mean1 = np.mean(df['approx_cost(for two people)'])\n",
    "    mean2 = np.mean(df[i])\n",
    "    std1 = np.std(df['approx_cost(for two people)'])\n",
    "    std2 = np.std(df[i])\n",
    "    num = (mean1 - mean2) if mean1>mean2 else (mean2 - mean1)\n",
    "    denom = np.sqrt((std1*std1 / n1) + (std2*std2 / n2))\n",
    "    z = num/denom\n",
    "    pval = stats.norm.sf(z)\n",
    "    print('z of',i,'is',z)\n",
    "    print('P_value of',i,'is',pval)\n",
    "    print('')"
   ]
  },
  {
   "cell_type": "code",
   "execution_count": null,
   "id": "fe0e1dc3",
   "metadata": {},
   "outputs": [],
   "source": [
    "# pval is greater than 0.05 for name, hence this column is insignificant (as we fail to reject hypothesis)"
   ]
  },
  {
   "cell_type": "markdown",
   "id": "78f564f3",
   "metadata": {},
   "source": [
    "### Regression"
   ]
  },
  {
   "cell_type": "code",
   "execution_count": null,
   "id": "2cdd61cc",
   "metadata": {},
   "outputs": [],
   "source": [
    "X_base = df.drop('approx_cost(for two people)',axis=1)\n",
    "y = df['approx_cost(for two people)']\n",
    "X = sm.add_constant(X_base)"
   ]
  },
  {
   "cell_type": "code",
   "execution_count": null,
   "id": "0aacbb7e",
   "metadata": {
    "scrolled": true
   },
   "outputs": [],
   "source": [
    "Xtrain, Xtest, ytrain, ytest = train_test_split(X, y, test_size=0.3, random_state=42)\n",
    "\n",
    "print(Xtrain.shape)\n",
    "print(Xtest.shape)\n",
    "print(ytrain.shape)\n",
    "print(ytest.shape)"
   ]
  },
  {
   "cell_type": "code",
   "execution_count": null,
   "id": "ed048363",
   "metadata": {},
   "outputs": [],
   "source": [
    "base_model = sm.OLS(ytrain, Xtrain).fit()\n",
    "print(base_model.summary())"
   ]
  },
  {
   "cell_type": "code",
   "execution_count": null,
   "id": "df342112",
   "metadata": {},
   "outputs": [],
   "source": [
    "num_cols = ['name','rate','votes','cuisines']\n",
    "sc= StandardScaler()\n",
    "\n",
    "Xtrain[num_cols] = sc.fit_transform(Xtrain[num_cols])\n",
    "Xtest[num_cols] = sc.fit_transform(Xtest[num_cols])"
   ]
  },
  {
   "cell_type": "code",
   "execution_count": null,
   "id": "9f2dff9b",
   "metadata": {
    "scrolled": false
   },
   "outputs": [],
   "source": [
    "Xtrain"
   ]
  },
  {
   "cell_type": "code",
   "execution_count": null,
   "id": "9b032565",
   "metadata": {},
   "outputs": [],
   "source": [
    "linreg = sm.OLS(ytrain, Xtrain).fit()\n",
    "print(linreg.summary())"
   ]
  },
  {
   "cell_type": "code",
   "execution_count": null,
   "id": "d062f36f",
   "metadata": {},
   "outputs": [],
   "source": [
    "ytrain_pred = linreg.predict(Xtrain)\n",
    "ytrain.head()"
   ]
  },
  {
   "cell_type": "code",
   "execution_count": null,
   "id": "311b101f",
   "metadata": {},
   "outputs": [],
   "source": [
    "ytest_pred = linreg.predict(Xtest)\n",
    "ytest.head()"
   ]
  },
  {
   "cell_type": "code",
   "execution_count": null,
   "id": "6cda80a9",
   "metadata": {},
   "outputs": [],
   "source": [
    "mse_train = mean_squared_error(ytrain, ytrain_pred)\n",
    "mse_test = mean_squared_error(ytest, ytest_pred)\n",
    "print('RMSE train:', np.sqrt(mse_train))\n",
    "print('RMSE test:', np.sqrt(mse_test))\n",
    "print()\n",
    "mape_train = mean_absolute_percentage_error(ytrain, ytrain_pred)\n",
    "mape_test = mean_absolute_percentage_error(ytest, ytest_pred)\n",
    "print('MAPE train:', mape_train)\n",
    "print('MAPE test:', mape_test)"
   ]
  },
  {
   "cell_type": "code",
   "execution_count": null,
   "id": "2c798334",
   "metadata": {},
   "outputs": [],
   "source": [
    "df1 = df.copy()"
   ]
  },
  {
   "cell_type": "code",
   "execution_count": null,
   "id": "b8c8f14c",
   "metadata": {},
   "outputs": [],
   "source": [
    "for j in range(len(df1.columns)):\n",
    "    vif=pd.DataFrame()\n",
    "    vif['VIF']=[variance_inflation_factor(df1.values,i) for i in range(len(df1.columns))]\n",
    "    vif['Features']=df1.columns\n",
    "    multi=vif[vif['VIF']>10]\n",
    "    if(multi.empty==False):\n",
    "        df1_sorted=multi.sort_values(by='VIF',ascending=False)\n",
    "    else:\n",
    "        print(vif)\n",
    "        break\n",
    "    if(df1_sorted.empty==False):\n",
    "        df1=df1.drop(df1_sorted.Features.iloc[0],axis=1)\n",
    "    else:\n",
    "        print(vif)"
   ]
  },
  {
   "cell_type": "code",
   "execution_count": null,
   "id": "ddb2e0b7",
   "metadata": {},
   "outputs": [],
   "source": [
    "X1_base = df.drop(['approx_cost(for two people)','listed_in(type)'],axis=1)\n",
    "y1 = df['approx_cost(for two people)']\n",
    "X1 = sm.add_constant(X1_base)"
   ]
  },
  {
   "cell_type": "code",
   "execution_count": null,
   "id": "6a638167",
   "metadata": {},
   "outputs": [],
   "source": [
    "Xtrain2, Xtest2, ytrain2, ytest2 = train_test_split(X1, y1, test_size=0.3, random_state=42)\n",
    "\n",
    "print(Xtrain2.shape)\n",
    "print(Xtest2.shape)\n",
    "print(ytrain2.shape)\n",
    "print(ytest2.shape)"
   ]
  },
  {
   "cell_type": "code",
   "execution_count": null,
   "id": "fd22f9bb",
   "metadata": {},
   "outputs": [],
   "source": [
    "model = sm.OLS(ytrain2, Xtrain2).fit()\n",
    "print(model.summary())"
   ]
  },
  {
   "cell_type": "markdown",
   "id": "f97bfc4a",
   "metadata": {},
   "source": [
    "### Classification"
   ]
  },
  {
   "cell_type": "code",
   "execution_count": null,
   "id": "c01154d5",
   "metadata": {},
   "outputs": [],
   "source": [
    "X = df.drop('online_order',axis=1)\n",
    "y = df['online_order']\n",
    "X_base = sm.add_constant(X)"
   ]
  },
  {
   "cell_type": "code",
   "execution_count": null,
   "id": "67267ee8",
   "metadata": {},
   "outputs": [],
   "source": [
    "X_train1, X_test1, y_train1, y_test1 = train_test_split(X_base,y, test_size=0.3, random_state=42)\n",
    "\n",
    "print(X_train1.shape)\n",
    "print(X_test1.shape)\n",
    "print(y_train1.shape)\n",
    "print(y_test1.shape)"
   ]
  },
  {
   "cell_type": "code",
   "execution_count": null,
   "id": "6d17c390",
   "metadata": {},
   "outputs": [],
   "source": [
    "logreg = sm.Logit(y_train1, X_train1).fit()\n",
    "print(logreg.summary())"
   ]
  },
  {
   "cell_type": "code",
   "execution_count": null,
   "id": "6ca691a8",
   "metadata": {},
   "outputs": [],
   "source": [
    "sns.countplot(df['online_order'])"
   ]
  },
  {
   "cell_type": "code",
   "execution_count": null,
   "id": "df234ff2",
   "metadata": {
    "scrolled": true
   },
   "outputs": [],
   "source": [
    "df['online_order'].value_counts(normalize=True)"
   ]
  },
  {
   "cell_type": "code",
   "execution_count": null,
   "id": "60b3e983",
   "metadata": {},
   "outputs": [],
   "source": [
    "X_train, X_test, y_train, y_test = train_test_split(X,y, test_size=0.3, random_state=42)\n",
    "\n",
    "print(X_train.shape)\n",
    "print(X_test.shape)\n",
    "print(y_train.shape)\n",
    "print(y_test.shape)"
   ]
  },
  {
   "cell_type": "code",
   "execution_count": null,
   "id": "8fc14995",
   "metadata": {},
   "outputs": [],
   "source": [
    "DT_classification = DecisionTreeClassifier(random_state=42)\n",
    "decision_tree = DT_classification.fit(X_train,y_train)"
   ]
  },
  {
   "cell_type": "code",
   "execution_count": null,
   "id": "b03694c4",
   "metadata": {},
   "outputs": [],
   "source": [
    "y_pred = decision_tree.predict(X_test)\n",
    "y_pred_prob = decision_tree.predict_proba(X_test)[:,1]"
   ]
  },
  {
   "cell_type": "code",
   "execution_count": null,
   "id": "2cb0715a",
   "metadata": {},
   "outputs": [],
   "source": [
    "fpr, tpr, threshold = roc_curve(y_test, y_pred_prob)\n",
    "plt.plot(fpr, tpr)\n",
    "plt.xlim([0.0,1.0])\n",
    "plt.ylim([0.0,1.0])\n",
    "plt.plot([1,0],[1,0],'r--')"
   ]
  },
  {
   "cell_type": "code",
   "execution_count": null,
   "id": "29715f90",
   "metadata": {},
   "outputs": [],
   "source": [
    "from sklearn import metrics"
   ]
  },
  {
   "cell_type": "code",
   "execution_count": null,
   "id": "0845fabd",
   "metadata": {},
   "outputs": [],
   "source": [
    "metrics.roc_auc_score(y_test, y_pred_prob)"
   ]
  },
  {
   "cell_type": "code",
   "execution_count": null,
   "id": "3148e5f6",
   "metadata": {
    "scrolled": true
   },
   "outputs": [],
   "source": [
    "accuracy_score(y_test, y_pred)"
   ]
  },
  {
   "cell_type": "code",
   "execution_count": null,
   "id": "a94beb31",
   "metadata": {},
   "outputs": [],
   "source": [
    "params = {'criterion':['entropy','gini'],\n",
    "         'min_samples_split':range(3,7),\n",
    "         'max_depth':range(8,15)}\n",
    "\n",
    "tree_model = GridSearchCV(estimator=decision_tree, param_grid=params, cv=5)\n",
    "tree_model.fit(X_train, y_train)\n",
    "tree_model.best_params_"
   ]
  },
  {
   "cell_type": "code",
   "execution_count": null,
   "id": "eb83f5c3",
   "metadata": {},
   "outputs": [],
   "source": [
    "DT = DecisionTreeClassifier(criterion='gini',\n",
    "                           min_samples_split=3,\n",
    "                           max_depth=14)\n",
    "\n",
    "decision_tune = DT.fit(X_train, y_train)"
   ]
  },
  {
   "cell_type": "code",
   "execution_count": null,
   "id": "b50285ff",
   "metadata": {},
   "outputs": [],
   "source": [
    "y_pred_tune = decision_tune.predict(X_test)\n",
    "y_pred_prob_tune = decision_tune.predict_proba(X_test)[:,1]"
   ]
  },
  {
   "cell_type": "code",
   "execution_count": null,
   "id": "57ee262b",
   "metadata": {},
   "outputs": [],
   "source": [
    "metrics.roc_auc_score(y_test, y_pred_prob_tune)"
   ]
  },
  {
   "cell_type": "code",
   "execution_count": null,
   "id": "bf6bfc39",
   "metadata": {},
   "outputs": [],
   "source": [
    "fpr, tpr, threshold = roc_curve(y_test, y_pred_prob_tune)\n",
    "plt.plot(fpr, tpr)\n",
    "plt.xlim([0.0,1.0])\n",
    "plt.ylim([0.0,1.0])\n",
    "plt.plot([1,0],[1,0],'r--')"
   ]
  },
  {
   "cell_type": "code",
   "execution_count": null,
   "id": "d9658334",
   "metadata": {},
   "outputs": [],
   "source": [
    "Random = RandomForestClassifier(random_state=42)\n",
    "random_forest = Random.fit(X_train, y_train)"
   ]
  },
  {
   "cell_type": "code",
   "execution_count": null,
   "id": "ffce1c9b",
   "metadata": {},
   "outputs": [],
   "source": [
    "y_pred_r = random_forest.predict(X_test)\n",
    "y_pred_prob_r = random_forest.predict_proba(X_test)[:,1]"
   ]
  },
  {
   "cell_type": "code",
   "execution_count": null,
   "id": "ce690cfe",
   "metadata": {},
   "outputs": [],
   "source": [
    "metrics.roc_auc_score(y_test, y_pred_prob)"
   ]
  },
  {
   "cell_type": "code",
   "execution_count": null,
   "id": "cc2f5227",
   "metadata": {},
   "outputs": [],
   "source": [
    "fpr, tpr, threshold = roc_curve(y_test, y_pred_prob_r)\n",
    "plt.plot(fpr, tpr)\n",
    "plt.xlim([0.0,1.0])\n",
    "plt.ylim([0.0,1.0])\n",
    "plt.plot([1,0],[1,0],'r--')"
   ]
  },
  {
   "cell_type": "code",
   "execution_count": null,
   "id": "02d5d66d",
   "metadata": {},
   "outputs": [],
   "source": [
    "params = {'criterion':['entropy','gini'],\n",
    "         'n_estimators':[100,150],\n",
    "         'max_depth':range(8,15),\n",
    "         'max_features':['sqrt','log2','auto']}\n",
    "rf = RandomForestClassifier()"
   ]
  },
  {
   "cell_type": "code",
   "execution_count": null,
   "id": "9233b9e6",
   "metadata": {},
   "outputs": [],
   "source": [
    "rand_model = GridSearchCV(estimator=rf, param_grid=params, cv=3)\n",
    "rand_model.fit(X_train, y_train)\n",
    "rand_model.best_params_"
   ]
  },
  {
   "cell_type": "code",
   "execution_count": null,
   "id": "5617e1eb",
   "metadata": {},
   "outputs": [],
   "source": [
    "rfc = RandomForestClassifier(criterion='gini',\n",
    "                            n_estimators=150,\n",
    "                            max_depth=14,\n",
    "                            max_features='log2')\n",
    "\n",
    "random_forest_tune = rfc.fit(X_train, y_train)"
   ]
  },
  {
   "cell_type": "code",
   "execution_count": null,
   "id": "5e8fc57b",
   "metadata": {},
   "outputs": [],
   "source": [
    "y_pred_tuner = random_forest_tune.predict(X_test)\n",
    "y_pred_prob_tuner = random_forest_tune.predict_proba(X_test)[:,1]"
   ]
  },
  {
   "cell_type": "code",
   "execution_count": null,
   "id": "94e60790",
   "metadata": {},
   "outputs": [],
   "source": [
    "fpr, tpr, threshold = roc_curve(y_test, y_pred_prob_tuner)\n",
    "plt.plot(fpr, tpr)\n",
    "plt.xlim([0.0,1.0])\n",
    "plt.ylim([0.0,1.0])\n",
    "plt.plot([1,0],[1,0],'r--')"
   ]
  },
  {
   "cell_type": "code",
   "execution_count": null,
   "id": "244a27af",
   "metadata": {},
   "outputs": [],
   "source": [
    "metrics.roc_auc_score(y_test, y_pred_prob_tuner)"
   ]
  },
  {
   "cell_type": "code",
   "execution_count": null,
   "id": "9a176d57",
   "metadata": {},
   "outputs": [],
   "source": []
  }
 ],
 "metadata": {
  "kernelspec": {
   "display_name": "Python 3 (ipykernel)",
   "language": "python",
   "name": "python3"
  },
  "language_info": {
   "codemirror_mode": {
    "name": "ipython",
    "version": 3
   },
   "file_extension": ".py",
   "mimetype": "text/x-python",
   "name": "python",
   "nbconvert_exporter": "python",
   "pygments_lexer": "ipython3",
   "version": "3.9.15"
  }
 },
 "nbformat": 4,
 "nbformat_minor": 5
}
